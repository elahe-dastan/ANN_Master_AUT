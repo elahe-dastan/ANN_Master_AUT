{
 "cells": [
  {
   "cell_type": "code",
   "execution_count": 4,
   "metadata": {},
   "outputs": [],
   "source": [
    "import matplotlib.pyplot as plt\n",
    "import os\n",
    "import torch.nn as nn"
   ]
  },
  {
   "cell_type": "code",
   "execution_count": 5,
   "metadata": {},
   "outputs": [],
   "source": [
    "def random_images():\n",
    "    root_dir = 'food-101/images/'\n",
    "    rows = 17\n",
    "    cols = 6\n",
    "    fig, ax = plt.subplots(rows, cols, frameon=False, figsize=(15, 25))\n",
    "    fig.suptitle('Random Image from Each Food Class', fontsize=20)\n",
    "    sorted_food_dirs = sorted(os.listdir(root_dir))\n",
    "    for i in range(rows):\n",
    "        for j in range(cols):\n",
    "            try:\n",
    "                food_dir = sorted_food_dirs[i*cols + j]\n",
    "            except:\n",
    "                break\n",
    "            all_files = os.listdir(os.path.join(root_dir, food_dir))\n",
    "            rand_img = np.random.choice(all_files)\n",
    "            img = plt.imread(os.path.join(root_dir, food_dir, rand_img))\n",
    "            ax[i][j].imshow(img)\n",
    "            ec = (0, .6, .1)\n",
    "            fc = (0, .7, .2)\n",
    "            ax[i][j].text(0, -20, food_dir, size=10, rotation=0,\n",
    "                    ha=\"left\", va=\"top\", \n",
    "                    bbox=dict(boxstyle=\"round\", ec=ec, fc=fc))\n",
    "    plt.setp(ax, xticks=[], yticks=[])\n",
    "    plt.tight_layout(rect=[0, 0.03, 1, 0.95])"
   ]
  },
  {
   "cell_type": "markdown",
   "metadata": {},
   "source": [
    "MODEL"
   ]
  },
  {
   "cell_type": "code",
   "execution_count": 6,
   "metadata": {},
   "outputs": [
    {
     "ename": "NameError",
     "evalue": "name 'IMG_SIZE' is not defined",
     "output_type": "error",
     "traceback": [
      "\u001b[0;31m---------------------------------------------------------------------------\u001b[0m",
      "\u001b[0;31mNameError\u001b[0m                                 Traceback (most recent call last)",
      "\u001b[0;32m<ipython-input-6-6967f468106c>\u001b[0m in \u001b[0;36m<module>\u001b[0;34m\u001b[0m\n\u001b[0;32m----> 1\u001b[0;31m \u001b[0mIMG_SHAPE\u001b[0m \u001b[0;34m=\u001b[0m \u001b[0;34m(\u001b[0m\u001b[0mIMG_SIZE\u001b[0m\u001b[0;34m,\u001b[0m \u001b[0mIMG_SIZE\u001b[0m\u001b[0;34m,\u001b[0m \u001b[0;36m3\u001b[0m\u001b[0;34m)\u001b[0m\u001b[0;34m\u001b[0m\u001b[0;34m\u001b[0m\u001b[0m\n\u001b[0m",
      "\u001b[0;31mNameError\u001b[0m: name 'IMG_SIZE' is not defined"
     ]
    }
   ],
   "source": [
    "IMG_SHAPE = (IMG_SIZE, IMG_SIZE, 3)"
   ]
  },
  {
   "cell_type": "code",
   "execution_count": null,
   "metadata": {},
   "outputs": [],
   "source": [
    "def build_model():\n",
    "    model = nn.Sequential()\n",
    "    # in_channels, out_channels, kernel_size\n",
    "    model.add(nn.Conv2d(1, 3, 2, stride=2))\n",
    "    model.add(nn.MaxPool2d(2))\n",
    "\n",
    "    model.add(nn.Conv2d(3, 3, 2, stride=2))\n",
    "    model.add(nn.MaxPool2d(2))\n",
    "\n",
    "    model.add(nn.Conv2d(3, 3, 2, stride=2))\n",
    "    model.add(nn.MaxPool2d(2))\n",
    "\n",
    "\n",
    "    model.add(Flatten())\n",
    "\n",
    "    model.add(nn.Linear(\"don't know\", 400))\n",
    "    model.add(nn.ReLU())\n",
    "\n",
    "    model.add(nn.Linear(400, 101))\n",
    "    model.add(nn.ReLU())\n",
    "    model.add(nn.Softmax())\n",
    "    \n",
    "    return model"
   ]
  },
  {
   "cell_type": "code",
   "execution_count": null,
   "metadata": {},
   "outputs": [],
   "source": [
    "model = build_model()\n",
    "\n",
    "model.compile(loss=\"binary_crossentropy\",\n",
    "              optimizer=torch.optim.RMSprop(),\n",
    "              metrics=[\"accuracy\"])\n",
    "model.summary()"
   ]
  },
  {
   "cell_type": "code",
   "execution_count": null,
   "metadata": {},
   "outputs": [],
   "source": [
    "history = model.fit(train_batches,epochs=15, validation_data=valid_batches)"
   ]
  },
  {
   "cell_type": "code",
   "execution_count": null,
   "metadata": {},
   "outputs": [],
   "source": [
    "model.evaluate(test_batches)"
   ]
  }
 ],
 "metadata": {
  "kernelspec": {
   "display_name": "Python 3",
   "language": "python",
   "name": "python3"
  },
  "language_info": {
   "codemirror_mode": {
    "name": "ipython",
    "version": 3
   },
   "file_extension": ".py",
   "mimetype": "text/x-python",
   "name": "python",
   "nbconvert_exporter": "python",
   "pygments_lexer": "ipython3",
   "version": "3.8.3"
  }
 },
 "nbformat": 4,
 "nbformat_minor": 4
}
