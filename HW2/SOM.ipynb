{
 "cells": [
  {
   "cell_type": "code",
   "execution_count": 12,
   "metadata": {},
   "outputs": [],
   "source": [
    "from sklearn.datasets import fetch_rcv1\n",
    "import numpy as np\n",
    "import matplotlib.pyplot as plt\n",
    "from scipy.sparse import csr_matrix"
   ]
  },
  {
   "cell_type": "code",
   "execution_count": 13,
   "metadata": {},
   "outputs": [],
   "source": [
    "X, y = fetch_rcv1(shuffle=True, return_X_y=True)\n"
   ]
  },
  {
   "cell_type": "code",
   "execution_count": 14,
   "metadata": {},
   "outputs": [],
   "source": [
    "class SOM:\n",
    "    def __init__(self, map_size, lr=0.1):\n",
    "        \"\"\"\n",
    "        :param map_size: [map_w, map_h, f]\n",
    "        \"\"\"\n",
    "        self.map = np.random.random(size=map_size)\n",
    "        self.lr0 = lr\n",
    "        self.lr = lr\n",
    "        \n",
    "        self.R0 = map_size[0]//2\n",
    "        self.R = self.R0\n",
    "\n",
    "        self.scores = np.zeros(shape=(self.map.shape[0], self.map.shape[1], 3))\n",
    "    \n",
    "    def find_winner(self, x):\n",
    "        repeated_x = np.tile(x, [self.map.shape[0], self.map.shape[1], 1])\n",
    "        dists = np.sum((self.map - repeated_x)**2, axis=2)\n",
    "        \n",
    "        winner = np.unravel_index(np.argmin(dists), dists.shape)\n",
    "        \n",
    "        return winner\n",
    "    \n",
    "    def get_NS(self, winner):\n",
    "        NS = np.zeros(shape=(self.map.shape[0], self.map.shape[1]))\n",
    "\n",
    "        iw, jw = winner[0], winner[1]\n",
    "        \n",
    "        NS[iw, jw] = 1\n",
    "        \n",
    "        for r in range(1, int(self.R)):\n",
    "            if iw - r >= 0:\n",
    "                NS[iw - r, jw] = 1/r   \n",
    "            if iw + r < self.map.shape[0]:\n",
    "                NS[iw + r, jw] = 1/r\n",
    "                \n",
    "            if jw - r >= 0:\n",
    "                NS[iw, jw - r] = 1/r\n",
    "            if jw + r < self.map.shape[1]:\n",
    "                NS[iw, jw + r] = 1/r\n",
    "                \n",
    "        return NS\n",
    "        \n",
    "    \n",
    "    def update_weights(self, x, n_strength):\n",
    "        NS = np.tile(n_strength, [self.map.shape[2], 1, 1]).transpose() # ERROR\n",
    "        \n",
    "        repeated_x = np.tile(x, [self.map.shape[0], self.map.shape[1], 1])\n",
    "        Delta = repeated_x - self.map\n",
    "        \n",
    "        self.map += self.lr * np.multiply(NS, Delta)\n",
    "    \n",
    "    def train(self, X, epochs=1000, error_threshold=10**-20):\n",
    "        Js = []\n",
    "        for epoch in range(epochs):\n",
    "            prev_map = np.copy(self.map)\n",
    "            for row in range(X.shape[0]):\n",
    "                x = X[row, :]\n",
    "                x = x.toarray()\n",
    "                winner = self.find_winner(x) # winner = [5, 23]\n",
    "                neighbors = self.get_NS(winner)\n",
    "                self.update_weights(x, neighbors)\n",
    "            \n",
    "            self.lr = self.lr0 * (1 - epoch/epochs)\n",
    "            self.R = self.R0 * (1 - epoch/epochs)\n",
    "            \n",
    "            Js.append(np.linalg.norm(prev_map - self.map))\n",
    "            \n",
    "#             if epoch % 100 == 0:\n",
    "            print(\"Iteration: %d, LR: %f, R: %f, J: %f\" %(epoch, self.lr, self.R, Js[-1]))\n",
    "            \n",
    "            if Js[-1] < error_threshold:\n",
    "                print(\"MIN CHANGE\")\n",
    "                break\n",
    "            \n",
    "        return Js\n",
    "\n",
    "    def visualize(self, X, y):\n",
    "        for i, (x, label) in enumerate(zip(X, y)):\n",
    "            x = x.toarray()\n",
    "            winner = self.find_winner(x)\n",
    "            iw, jw = winner[0], winner[1]\n",
    "            c = np.unravel_index(np.argmax(label), label.shape)[1]\n",
    "\n",
    "            if c < 34:\n",
    "                self.scores[iw, jw] += np.asarray([1, 0, 0])\n",
    "            if 34 <= c < 68:\n",
    "                self.scores[iw, jw] += np.asarray([0, 0, 1])\n",
    "            if 68 <= c:\n",
    "                self.scores[iw, jw] += np.asarray([0, 1, 0])\n",
    "\n",
    "        plt.imshow(self.scores)\n",
    "        plt.show()\n",
    "\n",
    "    def purity(self, X, y):\n",
    "        map = np.zeros((9, 9, 103))\n",
    "        for i, (x, label) in enumerate(zip(X, y)):\n",
    "            x = x.toarray()\n",
    "            winner = self.find_winner(x)\n",
    "            iw, jw = winner[0], winner[1]\n",
    "            c = np.unravel_index(np.argmax(label), label.shape)[1]\n",
    "            map[iw, jw, c] += 1\n",
    "\n",
    "        sigma = 0\n",
    "        for i in range(9):\n",
    "            for j in range(9):\n",
    "                sigma += np.unravel_index(np.argmax(map[i, j]), map[i, j].shape)[1]\n",
    "\n",
    "        p = sigma/X.shape[0]\n",
    "        return p"
   ]
  },
  {
   "cell_type": "code",
   "execution_count": 15,
   "metadata": {},
   "outputs": [],
   "source": [
    "X_small, y_small = X[:200], y[:200]"
   ]
  },
  {
   "cell_type": "code",
   "execution_count": 16,
   "metadata": {},
   "outputs": [
    {
     "name": "stdout",
     "output_type": "stream",
     "text": [
      "Iteration: 0, LR: 0.100000, R: 4.000000, J: 577.838465\n",
      "Iteration: 1, LR: 0.090000, R: 3.600000, J: 153.911970\n",
      "Iteration: 2, LR: 0.080000, R: 3.200000, J: 169.313405\n",
      "Iteration: 3, LR: 0.070000, R: 2.800000, J: 174.977291\n",
      "Iteration: 4, LR: 0.060000, R: 2.400000, J: 152.182094\n",
      "Iteration: 5, LR: 0.050000, R: 2.000000, J: 10.540877\n",
      "Iteration: 6, LR: 0.040000, R: 1.600000, J: 5.264718\n",
      "Iteration: 7, LR: 0.030000, R: 1.200000, J: 18.743504\n",
      "Iteration: 8, LR: 0.020000, R: 0.800000, J: 10.882487\n",
      "Iteration: 9, LR: 0.010000, R: 0.400000, J: 6.039549\n"
     ]
    }
   ],
   "source": [
    "som_net = SOM(map_size=[9, 9, X_small.shape[1]])\n",
    "Js = som_net.train(X_small, epochs=10)"
   ]
  },
  {
   "cell_type": "code",
   "execution_count": 17,
   "metadata": {},
   "outputs": [
    {
     "data": {
      "text/plain": "<Figure size 432x288 with 1 Axes>",
      "image/png": "[encoded data removed]"
     },
     "metadata": {
      "needs_background": "light"
     },
     "output_type": "display_data"
    }
   ],
   "source": [
    "plt.plot(Js)\n",
    "plt.show()"
   ]
  },
  {
   "cell_type": "code",
   "execution_count": 18,
   "outputs": [
    {
     "name": "stderr",
     "output_type": "stream",
     "text": [
      "Clipping input data to the valid range for imshow with RGB data ([0..1] for floats or [0..255] for integers).\n"
     ]
    },
    {
     "data": {
      "text/plain": "<Figure size 432x288 with 1 Axes>",
      "image/png": "[encoded data removed]"
     },
     "metadata": {
      "needs_background": "light"
     },
     "output_type": "display_data"
    }
   ],
   "source": [
    "som_net.visualize(X_small, y_small)"
   ],
   "metadata": {
    "collapsed": false,
    "pycharm": {
     "name": "#%%\n"
    }
   }
  },
  {
   "cell_type": "code",
   "execution_count": 7,
   "outputs": [
    {
     "data": {
      "text/plain": "(804414, 103)"
     },
     "execution_count": 7,
     "metadata": {},
     "output_type": "execute_result"
    }
   ],
   "source": [
    "som_net.purity(X_small, y_small)\n"
   ],
   "metadata": {
    "collapsed": false,
    "pycharm": {
     "name": "#%%\n"
    }
   }
  },
  {
   "cell_type": "code",
   "execution_count": null,
   "outputs": [],
   "source": [],
   "metadata": {
    "collapsed": false,
    "pycharm": {
     "name": "#%%\n"
    }
   }
  }
 ],
 "metadata": {
  "kernelspec": {
   "display_name": "Python 3",
   "language": "python",
   "name": "python3"
  },
  "language_info": {
   "codemirror_mode": {
    "name": "ipython",
    "version": 3
   },
   "file_extension": ".py",
   "mimetype": "text/x-python",
   "name": "python",
   "nbconvert_exporter": "python",
   "pygments_lexer": "ipython3",
   "version": "3.8.3"
  }
 },
 "nbformat": 4,
 "nbformat_minor": 4
}