{
 "cells": [
  {
   "cell_type": "code",
   "execution_count": 2,
   "metadata": {},
   "outputs": [],
   "source": [
    "from sklearn.datasets import fetch_rcv1\n",
    "import numpy as np\n",
    "import matplotlib.pyplot as plt\n",
    "from scipy.sparse import csr_matrix"
   ]
  },
  {
   "cell_type": "code",
   "execution_count": 3,
   "metadata": {},
   "outputs": [],
   "source": [
    "X, y = fetch_rcv1(shuffle=True, return_X_y=True)"
   ]
  },
  {
   "cell_type": "code",
   "execution_count": 8,
   "metadata": {},
   "outputs": [
    {
     "ename": "NameError",
     "evalue": "name 'rcv1' is not defined",
     "output_type": "error",
     "traceback": [
      "\u001B[0;31m---------------------------------------------------------------------------\u001B[0m",
      "\u001B[0;31mNameError\u001B[0m                                 Traceback (most recent call last)",
      "\u001B[0;32m<ipython-input-8-d1bf8a07bc4b>\u001B[0m in \u001B[0;36m<module>\u001B[0;34m\u001B[0m\n\u001B[0;32m----> 1\u001B[0;31m \u001B[0mtype\u001B[0m\u001B[0;34m(\u001B[0m\u001B[0mrcv1\u001B[0m\u001B[0;34m)\u001B[0m\u001B[0;34m\u001B[0m\u001B[0;34m\u001B[0m\u001B[0m\n\u001B[0m",
      "\u001B[0;31mNameError\u001B[0m: name 'rcv1' is not defined"
     ]
    }
   ],
   "source": [
    "type(rcv1)"
   ]
  },
  {
   "cell_type": "code",
   "execution_count": 3,
   "metadata": {},
   "outputs": [],
   "source": [
    "class SOM:\n",
    "    def __init__(self, map_size, lr=0.1):\n",
    "        \"\"\"\n",
    "        :param map_size: [map_w, map_h, f]\n",
    "        \"\"\"\n",
    "        self.map = np.random.random(size=map_size)\n",
    "        self.lr0 = lr\n",
    "        self.lr = lr\n",
    "        \n",
    "        self.R0 = map_size[0]//2\n",
    "        self.R = self.R0\n",
    "\n",
    "        self.scores = np.zeros(shape=(self.map.shape[0], self.map.shape[1], 3))\n",
    "    \n",
    "    def find_winner(self, x):\n",
    "        repeated_x = np.tile(x, [self.map.shape[0], self.map.shape[1], 1])\n",
    "        dists = np.sum((self.map - repeated_x)**2, axis=2)\n",
    "        \n",
    "        winner = np.unravel_index(np.argmin(dists), dists.shape)\n",
    "        \n",
    "        return winner\n",
    "    \n",
    "    def get_NS(self, winner):\n",
    "        NS = np.zeros(shape=(self.map.shape[0], self.map.shape[1]))\n",
    "\n",
    "        iw, jw = winner[0], winner[1]\n",
    "        \n",
    "        NS[iw, jw] = 1\n",
    "        \n",
    "        for r in range(1, int(self.R)):\n",
    "            if iw - r >= 0:\n",
    "                NS[iw - r, jw] = 1/r   \n",
    "            if iw + r < self.map.shape[0]:\n",
    "                NS[iw + r, jw] = 1/r\n",
    "                \n",
    "            if jw - r >= 0:\n",
    "                NS[iw, jw - r] = 1/r\n",
    "            if jw + r < self.map.shape[1]:\n",
    "                NS[iw, jw + r] = 1/r\n",
    "                \n",
    "        return NS\n",
    "        \n",
    "    \n",
    "    def update_weights(self, x, n_strength):\n",
    "        NS = np.tile(n_strength, [self.map.shape[2], 1, 1]).transpose() # ERROR\n",
    "        \n",
    "        repeated_x = np.tile(x, [self.map.shape[0], self.map.shape[1], 1])\n",
    "        Delta = repeated_x - self.map\n",
    "        \n",
    "        self.map += self.lr * np.multiply(NS, Delta)\n",
    "    \n",
    "    def train(self, X, epochs=1000, error_threshold=10**-20):\n",
    "        Js = []\n",
    "        for epoch in range(epochs):\n",
    "            prev_map = np.copy(self.map)\n",
    "            for row in range(X.shape[0]):\n",
    "                x = X[row, :]\n",
    "                x = x.toarray()\n",
    "                winner = self.find_winner(x) # winner = [5, 23]\n",
    "                neighbors = self.get_NS(winner)\n",
    "                self.update_weights(x, neighbors)\n",
    "            \n",
    "            self.lr = self.lr0 * (1 - epoch/epochs)\n",
    "            self.R = self.R0 * (1 - epoch/epochs)\n",
    "            \n",
    "            Js.append(np.linalg.norm(prev_map - self.map))\n",
    "            \n",
    "#             if epoch % 100 == 0:\n",
    "            print(\"Iteration: %d, LR: %f, R: %f, J: %f\" %(epoch, self.lr, self.R, Js[-1]))\n",
    "            \n",
    "            if Js[-1] < error_threshold:\n",
    "                print(\"MIN CHANGE\")\n",
    "                break\n",
    "            \n",
    "        return Js\n",
    "\n",
    "    def visualize(self, X, y):\n",
    "        for i in range(len(X)):\n",
    "            x = X[i, :]\n",
    "            winner = self.find_winner(x)\n",
    "            iw, jw = winner[0], winner[1]\n",
    "\n",
    "            if y[i] == 1:\n"
   ]
  },
  {
   "cell_type": "code",
   "execution_count": 4,
   "metadata": {},
   "outputs": [],
   "source": [
    "X_small = X[:100]"
   ]
  },
  {
   "cell_type": "code",
   "execution_count": 13,
   "metadata": {},
   "outputs": [
    {
     "name": "stdout",
     "output_type": "stream",
     "text": [
      "Iteration: 0, LR: 0.100000, R: 4.000000, J: 0.000000\n",
      "MIN CHANGE\n"
     ]
    }
   ],
   "source": [
    "som_net = SOM(map_size=[9, 9, X_small.shape[1]])\n",
    "Js = som_net.train(X_small, epochs=10)"
   ]
  },
  {
   "cell_type": "code",
   "execution_count": null,
   "metadata": {},
   "outputs": [],
   "source": [
    "plt.plot(Js)\n",
    "plt.show()"
   ]
  },
  {
   "cell_type": "code",
   "execution_count": 6,
   "outputs": [
    {
     "data": {
      "text/plain": "(804414, 47236)"
     },
     "execution_count": 6,
     "metadata": {},
     "output_type": "execute_result"
    }
   ],
   "source": [
    "X.shape"
   ],
   "metadata": {
    "collapsed": false,
    "pycharm": {
     "name": "#%%\n"
    }
   }
  },
  {
   "cell_type": "code",
   "execution_count": 7,
   "outputs": [
    {
     "data": {
      "text/plain": "(804414, 103)"
     },
     "execution_count": 7,
     "metadata": {},
     "output_type": "execute_result"
    }
   ],
   "source": [
    "y.shape\n"
   ],
   "metadata": {
    "collapsed": false,
    "pycharm": {
     "name": "#%%\n"
    }
   }
  },
  {
   "cell_type": "code",
   "execution_count": null,
   "outputs": [],
   "source": [],
   "metadata": {
    "collapsed": false,
    "pycharm": {
     "name": "#%%\n"
    }
   }
  }
 ],
 "metadata": {
  "kernelspec": {
   "display_name": "Python 3",
   "language": "python",
   "name": "python3"
  },
  "language_info": {
   "codemirror_mode": {
    "name": "ipython",
    "version": 3
   },
   "file_extension": ".py",
   "mimetype": "text/x-python",
   "name": "python",
   "nbconvert_exporter": "python",
   "pygments_lexer": "ipython3",
   "version": "3.8.3"
  }
 },
 "nbformat": 4,
 "nbformat_minor": 4
}