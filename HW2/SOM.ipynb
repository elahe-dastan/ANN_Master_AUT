{
 "cells": [
  {
   "cell_type": "code",
   "execution_count": 21,
   "metadata": {
    "pycharm": {
     "is_executing": true
    }
   },
   "outputs": [],
   "source": [
    "from sklearn.datasets import fetch_rcv1\n",
    "import numpy as np\n",
    "import matplotlib.pyplot as plt\n",
    "from scipy.sparse import csr_matrix"
   ]
  },
  {
   "cell_type": "code",
   "execution_count": 9,
   "metadata": {},
   "outputs": [],
   "source": [
    "X, y = fetch_rcv1(shuffle=True, return_X_y=True)"
   ]
  },
  {
   "cell_type": "code",
   "execution_count": 3,
   "metadata": {},
   "outputs": [
    {
     "data": {
      "text/plain": [
       "sklearn.utils.Bunch"
      ]
     },
     "execution_count": 3,
     "metadata": {},
     "output_type": "execute_result"
    }
   ],
   "source": [
    "type(rcv1)"
   ]
  },
  {
   "cell_type": "code",
   "execution_count": 42,
   "metadata": {},
   "outputs": [],
   "source": [
    "class SOM:\n",
    "    def __init__(self, map_size, lr=0.1):\n",
    "        \"\"\"\n",
    "        :param map_size: [map_w, map_h, f]\n",
    "        \"\"\"\n",
    "        self.map = np.random.random(size=map_size)\n",
    "        self.lr0 = lr\n",
    "        self.lr = lr\n",
    "        \n",
    "        self.R0 = map_size[0]//2\n",
    "        self.R = self.R0\n",
    "    \n",
    "    def find_winner(self, x):\n",
    "        repeated_x = np.tile(x, [self.map.shape[0], self.map.shape[1], 1])\n",
    "        dists = np.sum((self.map - repeated_x)**2, axis=2)\n",
    "        \n",
    "        winner = np.unravel_index(np.argmin(dists), dists.shape)\n",
    "        \n",
    "        return winner\n",
    "    \n",
    "    def get_NS(self, winner):\n",
    "        NS = np.zeros(shape=(self.map.shape[0], self.map.shape[1]))\n",
    "\n",
    "        iw, jw = winner[0], winner[1]\n",
    "        \n",
    "        NS[iw, jw] = 1\n",
    "        \n",
    "        for r in range(1, int(self.R)):\n",
    "            if iw - r >= 0:\n",
    "                NS[iw - r, jw] = 1/r   \n",
    "            if iw + r < self.map.shape[0]:\n",
    "                NS[iw + r, jw] = 1/r\n",
    "                \n",
    "            if jw - r >= 0:\n",
    "                NS[iw, jw - r] = 1/r\n",
    "            if jw + r < self.map.shape[1]:\n",
    "                NS[iw, jw + r] = 1/r\n",
    "                \n",
    "        return NS\n",
    "        \n",
    "    \n",
    "    def update_weights(self, x, n_strength):\n",
    "        NS = np.tile(n_strength, [self.map.shape[2], 1, 1]).transpose() # ERROR\n",
    "        \n",
    "        repeated_x = np.tile(x, [self.map.shape[0], self.map.shape[1], 1])\n",
    "        Delta = self.map - repeated_x\n",
    "        \n",
    "        self.map += self.lr * np.multiply(NS, Delta)\n",
    "    \n",
    "    def train(self, X, epochs=1000, error_threshold=10**-20):\n",
    "        Js = []\n",
    "        for epoch in range(epochs):\n",
    "            prev_map = self.map\n",
    "            for row in range(X.shape[0]):\n",
    "                x = X[row, :]\n",
    "                x = x.toarray()\n",
    "                winner = self.find_winner(x) # winner = [5, 23]\n",
    "                neighbors = self.get_NS(winner)\n",
    "                self.update_weights(x, neighbors)\n",
    "            \n",
    "            self.lr = self.lr0 * (1 - epoch/epochs)\n",
    "            self.R = self.R0 * (1 - epoch/epochs)\n",
    "            \n",
    "            Js.append(np.linalg.norm(prev_map - self.map))\n",
    "            \n",
    "#             if epoch % 100 == 0:\n",
    "            print(\"Iteration: %d, LR: %f, R: %f, J: %f\" %(epoch, self.lr, self.R, Js[-1]))\n",
    "            \n",
    "            if Js[-1] < error_threshold:\n",
    "                print(\"MIN CHANGE\")\n",
    "                break\n",
    "            \n",
    "        return Js\n",
    "                "
   ]
  },
  {
   "cell_type": "code",
   "execution_count": 43,
   "metadata": {},
   "outputs": [
    {
     "ename": "KeyboardInterrupt",
     "evalue": "",
     "output_type": "error",
     "traceback": [
      "\u001b[0;31m---------------------------------------------------------------------------\u001b[0m",
      "\u001b[0;31mKeyboardInterrupt\u001b[0m                         Traceback (most recent call last)",
      "\u001b[0;32m<ipython-input-43-b02da83a7c61>\u001b[0m in \u001b[0;36m<module>\u001b[0;34m\u001b[0m\n\u001b[1;32m      1\u001b[0m \u001b[0msom_net\u001b[0m \u001b[0;34m=\u001b[0m \u001b[0mSOM\u001b[0m\u001b[0;34m(\u001b[0m\u001b[0mmap_size\u001b[0m\u001b[0;34m=\u001b[0m\u001b[0;34m[\u001b[0m\u001b[0;36m9\u001b[0m\u001b[0;34m,\u001b[0m \u001b[0;36m9\u001b[0m\u001b[0;34m,\u001b[0m \u001b[0mX\u001b[0m\u001b[0;34m.\u001b[0m\u001b[0mshape\u001b[0m\u001b[0;34m[\u001b[0m\u001b[0;36m1\u001b[0m\u001b[0;34m]\u001b[0m\u001b[0;34m]\u001b[0m\u001b[0;34m)\u001b[0m\u001b[0;34m\u001b[0m\u001b[0;34m\u001b[0m\u001b[0m\n\u001b[0;32m----> 2\u001b[0;31m \u001b[0mJs\u001b[0m \u001b[0;34m=\u001b[0m \u001b[0msom_net\u001b[0m\u001b[0;34m.\u001b[0m\u001b[0mtrain\u001b[0m\u001b[0;34m(\u001b[0m\u001b[0mX\u001b[0m\u001b[0;34m,\u001b[0m \u001b[0mepochs\u001b[0m\u001b[0;34m=\u001b[0m\u001b[0;36m10\u001b[0m\u001b[0;34m)\u001b[0m\u001b[0;34m\u001b[0m\u001b[0;34m\u001b[0m\u001b[0m\n\u001b[0m",
      "\u001b[0;32m<ipython-input-42-e825479cf998>\u001b[0m in \u001b[0;36mtrain\u001b[0;34m(self, X, epochs, error_threshold)\u001b[0m\n\u001b[1;32m     57\u001b[0m                 \u001b[0mwinner\u001b[0m \u001b[0;34m=\u001b[0m \u001b[0mself\u001b[0m\u001b[0;34m.\u001b[0m\u001b[0mfind_winner\u001b[0m\u001b[0;34m(\u001b[0m\u001b[0mx\u001b[0m\u001b[0;34m)\u001b[0m \u001b[0;31m# winner = [5, 23]\u001b[0m\u001b[0;34m\u001b[0m\u001b[0;34m\u001b[0m\u001b[0m\n\u001b[1;32m     58\u001b[0m                 \u001b[0mneighbors\u001b[0m \u001b[0;34m=\u001b[0m \u001b[0mself\u001b[0m\u001b[0;34m.\u001b[0m\u001b[0mget_NS\u001b[0m\u001b[0;34m(\u001b[0m\u001b[0mwinner\u001b[0m\u001b[0;34m)\u001b[0m\u001b[0;34m\u001b[0m\u001b[0;34m\u001b[0m\u001b[0m\n\u001b[0;32m---> 59\u001b[0;31m                 \u001b[0mself\u001b[0m\u001b[0;34m.\u001b[0m\u001b[0mupdate_weights\u001b[0m\u001b[0;34m(\u001b[0m\u001b[0mx\u001b[0m\u001b[0;34m,\u001b[0m \u001b[0mneighbors\u001b[0m\u001b[0;34m)\u001b[0m\u001b[0;34m\u001b[0m\u001b[0;34m\u001b[0m\u001b[0m\n\u001b[0m\u001b[1;32m     60\u001b[0m \u001b[0;34m\u001b[0m\u001b[0m\n\u001b[1;32m     61\u001b[0m             \u001b[0mself\u001b[0m\u001b[0;34m.\u001b[0m\u001b[0mlr\u001b[0m \u001b[0;34m=\u001b[0m \u001b[0mself\u001b[0m\u001b[0;34m.\u001b[0m\u001b[0mlr0\u001b[0m \u001b[0;34m*\u001b[0m \u001b[0;34m(\u001b[0m\u001b[0;36m1\u001b[0m \u001b[0;34m-\u001b[0m \u001b[0mepoch\u001b[0m\u001b[0;34m/\u001b[0m\u001b[0mepochs\u001b[0m\u001b[0;34m)\u001b[0m\u001b[0;34m\u001b[0m\u001b[0;34m\u001b[0m\u001b[0m\n",
      "\u001b[0;32m<ipython-input-42-e825479cf998>\u001b[0m in \u001b[0;36mupdate_weights\u001b[0;34m(self, x, n_strength)\u001b[0m\n\u001b[1;32m     44\u001b[0m \u001b[0;34m\u001b[0m\u001b[0m\n\u001b[1;32m     45\u001b[0m         \u001b[0mrepeated_x\u001b[0m \u001b[0;34m=\u001b[0m \u001b[0mnp\u001b[0m\u001b[0;34m.\u001b[0m\u001b[0mtile\u001b[0m\u001b[0;34m(\u001b[0m\u001b[0mx\u001b[0m\u001b[0;34m,\u001b[0m \u001b[0;34m[\u001b[0m\u001b[0mself\u001b[0m\u001b[0;34m.\u001b[0m\u001b[0mmap\u001b[0m\u001b[0;34m.\u001b[0m\u001b[0mshape\u001b[0m\u001b[0;34m[\u001b[0m\u001b[0;36m0\u001b[0m\u001b[0;34m]\u001b[0m\u001b[0;34m,\u001b[0m \u001b[0mself\u001b[0m\u001b[0;34m.\u001b[0m\u001b[0mmap\u001b[0m\u001b[0;34m.\u001b[0m\u001b[0mshape\u001b[0m\u001b[0;34m[\u001b[0m\u001b[0;36m1\u001b[0m\u001b[0;34m]\u001b[0m\u001b[0;34m,\u001b[0m \u001b[0;36m1\u001b[0m\u001b[0;34m]\u001b[0m\u001b[0;34m)\u001b[0m\u001b[0;34m\u001b[0m\u001b[0;34m\u001b[0m\u001b[0m\n\u001b[0;32m---> 46\u001b[0;31m         \u001b[0mDelta\u001b[0m \u001b[0;34m=\u001b[0m \u001b[0mself\u001b[0m\u001b[0;34m.\u001b[0m\u001b[0mmap\u001b[0m \u001b[0;34m-\u001b[0m \u001b[0mrepeated_x\u001b[0m\u001b[0;34m\u001b[0m\u001b[0;34m\u001b[0m\u001b[0m\n\u001b[0m\u001b[1;32m     47\u001b[0m \u001b[0;34m\u001b[0m\u001b[0m\n\u001b[1;32m     48\u001b[0m         \u001b[0mself\u001b[0m\u001b[0;34m.\u001b[0m\u001b[0mmap\u001b[0m \u001b[0;34m+=\u001b[0m \u001b[0mself\u001b[0m\u001b[0;34m.\u001b[0m\u001b[0mlr\u001b[0m \u001b[0;34m*\u001b[0m \u001b[0mnp\u001b[0m\u001b[0;34m.\u001b[0m\u001b[0mmultiply\u001b[0m\u001b[0;34m(\u001b[0m\u001b[0mNS\u001b[0m\u001b[0;34m,\u001b[0m \u001b[0mDelta\u001b[0m\u001b[0;34m)\u001b[0m\u001b[0;34m\u001b[0m\u001b[0;34m\u001b[0m\u001b[0m\n",
      "\u001b[0;31mKeyboardInterrupt\u001b[0m: "
     ]
    }
   ],
   "source": [
    "som_net = SOM(map_size=[9, 9, X.shape[1]])\n",
    "Js = som_net.train(X, epochs=10)"
   ]
  },
  {
   "cell_type": "code",
   "execution_count": null,
   "metadata": {},
   "outputs": [],
   "source": [
    "plt.plot(Js)\n",
    "plt.show()"
   ]
  }
 ],
 "metadata": {
  "kernelspec": {
   "display_name": "Python 3",
   "language": "python",
   "name": "python3"
  },
  "language_info": {
   "codemirror_mode": {
    "name": "ipython",
    "version": 3
   },
   "file_extension": ".py",
   "mimetype": "text/x-python",
   "name": "python",
   "nbconvert_exporter": "python",
   "pygments_lexer": "ipython3",
   "version": "3.8.3"
  }
 },
 "nbformat": 4,
 "nbformat_minor": 4
}
